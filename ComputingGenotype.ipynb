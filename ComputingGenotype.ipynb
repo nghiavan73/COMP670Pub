{
 "cells": [
  {
   "cell_type": "code",
   "execution_count": 9,
   "metadata": {},
   "outputs": [
    {
     "name": "stdout",
     "output_type": "stream",
     "text": [
      "Requirement already satisfied: numpy in c:\\users\\nghiavan\\appdata\\local\\programs\\python\\python311\\lib\\site-packages (1.26.4)\n",
      "Note: you may need to restart the kernel to use updated packages.\n"
     ]
    }
   ],
   "source": [
    "%pip install numpy"
   ]
  },
  {
   "cell_type": "code",
   "execution_count": 10,
   "metadata": {},
   "outputs": [],
   "source": [
    "import random, string, numpy\n",
    "import time\n",
    "\n",
    "def init(): \n",
    "    pop = []   \n",
    "    for i in range(pop_size):\n",
    "        genotype = ''.join(random.choice(string.ascii_letters) for x in range(genotype_size))\n",
    "        pop.append(genotype)   \n",
    "    return(pop)\n",
    "    "
   ]
  },
  {
   "cell_type": "code",
   "execution_count": 11,
   "metadata": {},
   "outputs": [],
   "source": [
    "def evaluate(pop):\n",
    "    fitness = []\n",
    "    for i in range(pop_size):\n",
    "        genotype = pop[i]\n",
    "        fitness_value = sum(ord(i) for i in genotype)  #sums up the ascii values of the characters\n",
    "        fitness.append(fitness_value)    \n",
    "    # Normalize fitness. IMPORTANT: If you don't multiple by 1.0, you will get all zeros\n",
    "    fitness = [f * 1.0/sum(fitness) for f in fitness]\n",
    "    # This normalization is needed for select() to pick the parents    \n",
    "    return(fitness)"
   ]
  },
  {
   "cell_type": "code",
   "execution_count": 12,
   "metadata": {},
   "outputs": [],
   "source": [
    "def select(fitness, pop):    \n",
    "    # Select first parent\n",
    "    parent_1_index = -9999  #indicates that parent_1 is yet to be chosen\n",
    "    cumulated_fitness = 0\n",
    "    roulette_marker = random.random()  #indicates that the 'roulette wheel' has settled on a random number between 0 and 1\n",
    "    for i in range(pop_size):\n",
    "        cumulated_fitness += fitness[i]\n",
    "        if cumulated_fitness >= roulette_marker:\n",
    "            parent_1_index = i\n",
    "            break\n",
    "    \n",
    "    # Select second parent different from the first parent\n",
    "    parent_2_index = parent_1_index  #indicates that parent_2 is yet to be chosen\n",
    "    while parent_2_index == parent_1_index:  #this ensures that the two parents chosen are distinct\n",
    "        cumulated_fitness = 0\n",
    "        roulette_marker = random.random()  #indicates that the 'roulette wheel' has settled on a random number\n",
    "        for i in range(pop_size):\n",
    "            cumulated_fitness += fitness[i]\n",
    "            if cumulated_fitness >= roulette_marker:\n",
    "                parent_2_index = i\n",
    "                break\n",
    "    \n",
    "    return([pop[parent_1_index], pop[parent_2_index]])"
   ]
  },
  {
   "cell_type": "code",
   "execution_count": 13,
   "metadata": {},
   "outputs": [],
   "source": [
    "def recombine(parent_1, parent_2, recombination_rate):   \n",
    "    r = random.random()   \n",
    "    if r <= recombination_rate:  #recombination_rate is a value between 0 and 1\n",
    "        #recombine\n",
    "        slice_point = random.randint(0, genotype_size-1)\n",
    "        offspring_1 = parent_1[0 : slice_point] + parent_2[slice_point : genotype_size]\n",
    "        offspring_2 = parent_2[0 : slice_point] + parent_1[slice_point : genotype_size]\n",
    "        return([offspring_1, offspring_2])\n",
    "   \n",
    "    else:  #don't recombine\n",
    "        return([parent_1, parent_2])"
   ]
  },
  {
   "cell_type": "code",
   "execution_count": 14,
   "metadata": {},
   "outputs": [],
   "source": [
    "def mutate(genotype, mutation_rate):   \n",
    "    mutated_genotype = genotype  #indicates that the genotype is yet to be mutated   \n",
    "    for i in range(genotype_size):   \n",
    "        r = random.random()   \n",
    "        if r <= mutation_rate:  #rate is a value between 0 and 1\n",
    "            # then mutate this symbol by a small shift on the alphabet scale, else proceed to the next symbol            \n",
    "            # 'numpy.random.poisson' draws a random integer from a bell shaped distribution centered at 'lam',\n",
    "            # where 'lam' is short for 'lambda' that represents the mean of the distribution.\n",
    "            # So 'numpy.random.poisson(lam = 2)' typically returns the number 2, occasionally 1 and 3, even more\n",
    "            # rarely 0 and 4.            \n",
    "            mutation_magnitude = numpy.random.poisson(lam = 2)  \n",
    "            mutation_direction = random.choice([-1, 1])\n",
    "            mutation = mutation_direction * mutation_magnitude            \n",
    "            present_symbol_ascii = ord(genotype[i])            \n",
    "            mutated_symbol_ascii = present_symbol_ascii + mutation            \n",
    "            if (mutated_symbol_ascii < ord('A')): mutated_symbol_ascii = ord('A')\n",
    "            if (mutated_symbol_ascii > ord('z')): mutated_symbol_ascii = ord('z')\n",
    "            new_symbol = chr(mutated_symbol_ascii)            \n",
    "            mutated_genotype = mutated_genotype[0 : i] + new_symbol + mutated_genotype[(i+1) : genotype_size]\n",
    "    return(mutated_genotype)"
   ]
  },
  {
   "cell_type": "markdown",
   "metadata": {},
   "source": [
    "Revise the functions above and the code below to implement a Genetic Algorithm to evolve a 'textual' genotype in the following way.\n",
    "\n",
    "- Your init() method should initialize each genotype in the population to consist of a string of random letters. \n",
    "- The objective is to evolve genotypes that contain as many (lowercase) a's as possible. \n",
    "- That is, you can use the number of lowercase a's present in a genotype as its fitness score in your evaluate() method. \n",
    "- At the end of each generation, print out the best performing genotype.\n",
    "\n",
    "For solving this simple problem (by GA standards), you may choose to not use the recombine() method, but you are welcome to try it.\n",
    "\n",
    "Use a population size, genome size, and number of iterations of your preference.\n",
    "\n",
    "NOTE: Your mutation method should not explicitly replace a genotype letter with 'a'. Although it will lead to solutions more quickly, it's not natural from an evolution point of view that is blind in a sense."
   ]
  },
  {
   "cell_type": "code",
   "execution_count": 15,
   "metadata": {},
   "outputs": [
    {
     "name": "stdout",
     "output_type": "stream",
     "text": [
      "'abcdefghijklmnopqrstuvwxyzABCDEFGHIJKLMNOPQRSTUVWXYZ'\n"
     ]
    }
   ],
   "source": [
    "\n",
    "\n",
    "# Python program to illustrate ascii()\n",
    "test_str = string.ascii_letters\n",
    "print(ascii(test_str))"
   ]
  },
  {
   "cell_type": "code",
   "execution_count": 16,
   "metadata": {},
   "outputs": [],
   "source": [
    "def countLowerLetter(string):\n",
    "    return sum(1 for char in string if char.islower())\n",
    "\n"
   ]
  },
  {
   "cell_type": "code",
   "execution_count": 39,
   "metadata": {},
   "outputs": [
    {
     "name": "stdout",
     "output_type": "stream",
     "text": [
      "COMP 670: GA Assignment by: Nghia Van\n",
      "The initial population is:  ['LuFUkhnUfz', 'vtSiaToRkc', 'XcaYUACNJk', 'tIMvPwIITF', 'vpHoxkpPve', 'LitbGuzKWI', 'jgNzbOyVCh', 'ULzvthAroI', 'qVORLeMvmo', 'oveFHoVkPn', 'WbgjKUXXSy', 'GRokmoMiJY', 'MWALDfJMxx', 'akYLdxpViu', 'LnnNdnwERn', 'oseBJtTYbQ', 'nhcOoulzeX', 'OJAAAdMnuE', 'knFIfNMFuV', 'mYtllXNeXd']\n",
      "Iteration Count: 458\n",
      "Total runtime of the program is 0.10172891616821289\n",
      "The last population is   \t         :   ['Ac[cvnLnqr', 'JcPjwgCowy', 'Ac_fwjMrso', 'BfJjxgFpwu', 'J`U]zkNrqr', 'EcYjwjPzyp', 'ChOjriEqot', 'GcHiyfKptt', 'CBP^ujGuoy', 'BaJjzlHpuw', 'Ac[gwjJrqo', 'AcYjwjMrqr', 'E`SZzkMxwy', 'H`U]zkNzzp', 'JcPjxgEpxp', 'JcQjunFotz', 'CBP`wjGuoy', 'GeHiyfGosv', 'KcPjunDowp', 'JeHhyfGovx']\n",
      "The best performing genotype population is:  ['Ac[cvnLnqr', 'JcPjwgCowy', 'Ac_fwjMrso', 'BfJjxgFpwu', 'J`U]zkNrqr', 'EcYjwjPzyp', 'ChOjriEqot', 'GcHiyfKptt', 'CBP^ujGuoy', 'BaJjzlHpuw', 'Ac[gwjJrqo', 'AcYjwjMrqr', 'E`SZzkMxwy', 'H`U]zkNzzp', 'JcPjxgEpxp', 'JcQjunFotz', 'CBP`wjGuoy', 'GeHiyfGosv', 'KcPjunDowp', 'JeHhyfGovx']\n"
     ]
    }
   ],
   "source": [
    "\n",
    "# store starting time\n",
    "beginTime = time.time()\n",
    "# EXAMPLE GA parameers\n",
    "pop_size = 20  #population size\n",
    "num_generations = 10000\n",
    "genotype_size = 10\n",
    "recombination_rate = 0.2\n",
    "mutation_rate =  0.2\n",
    "\n",
    "# New stuff\n",
    "maxAcceptedPop = []\n",
    "maxCount = 0\n",
    "setNumberOfLowercase = genotype_size - 3 #Set selected genotype\n",
    "setNumberOfAcceptedGenoType = pop_size - 5 #Set condition for termination - selected genotype less than or equal this number\n",
    "iterationCount = 0\n",
    "\n",
    "print('COMP 670: GA Assignment by: Nghia Van') #Print your name\n",
    "\n",
    "# Main GA loop.\n",
    "# This is NOT the full GA. A full GA may do other things in between the lines below.\n",
    "pop = init()\n",
    "\n",
    "\n",
    "print(\"The initial population is: \", pop) #printing the initial population\n",
    "for gen in range(num_generations):\n",
    "\titerationCount = iterationCount + 1\n",
    "\tfitness = evaluate(pop)\n",
    "\t#print(\"Fitness: \" + str(fitness))\n",
    "\n",
    "\t# create a new population that will hold the next generation of genotypes\n",
    "\t# if you are using 'elite' selection, then simply copy the top x% of individuals from pop to new_pop\n",
    "\tnew_pop = []  \n",
    "\n",
    "\twhile (len(new_pop) < pop_size):  # continue loop until new_pop has pop_size number of individuals\n",
    "\t\t[parent_1, parent_2] = select(fitness, pop)\n",
    "\t\t[offspring_1, offspring_2] = recombine(parent_1, parent_2, recombination_rate)\n",
    "\t\tmutated_genotype_1 = mutate(offspring_1, mutation_rate)\n",
    "\t\tmutated_genotype_2 = mutate(offspring_2, mutation_rate)\n",
    "\t\t\n",
    "\t\tnew_pop.append(mutated_genotype_1)\n",
    "\t\tnew_pop.append(mutated_genotype_2)\n",
    "\t\t\n",
    "\t\t# continue loop until new_pop has pop_size number of individuals\n",
    "\tpop = new_pop  #replace current population with new population\n",
    "\tnumberOfAcceptGenoType = 0\n",
    "\tfor i in range (pop_size):\t\t\n",
    "\t\tnumberOfLowerLetter = (countLowerLetter(pop[i]))\n",
    "\t\tif numberOfLowerLetter >= setNumberOfLowercase:\n",
    "\t\t\tnumberOfAcceptGenoType = numberOfAcceptGenoType + 1\n",
    "\t\t\n",
    "\tif numberOfAcceptGenoType >= maxCount: #Try to pick the latest if it run all iterations\n",
    "\t\tmaxCount = numberOfAcceptGenoType\n",
    "\t\tmaxAcceptedPop = pop\n",
    "\t\tif maxCount >= setNumberOfAcceptedGenoType: #remove this 2 line of code to get the best pupulation in all iterations\n",
    "\t\t\tbreak #break to reach the termination setting; remove this code to get the best pupulation in all iterations\n",
    "\n",
    "\t#print(\"The current population is:   \", pop)\n",
    "\n",
    "\t# print best genotype and its fitness score of current generation\n",
    " \t\n",
    "\t# continue loop to create next generation\n",
    "# print overall best genotype and its fitness score at the end of num_generations\n",
    "\n",
    "# store end time\n",
    "endTime = time.time()\n",
    "# total time taken\n",
    "print(\"Iteration Count: \" + str(iterationCount))\n",
    "print(f\"Total runtime of the program is {endTime - beginTime}\")\n",
    "print(\"The last population is   \t         :  \", pop)\n",
    "print(\"The best performing genotype population is: \", maxAcceptedPop)"
   ]
  },
  {
   "cell_type": "code",
   "execution_count": 18,
   "metadata": {},
   "outputs": [
    {
     "name": "stdout",
     "output_type": "stream",
     "text": [
      "The finalinitial population is:  ['nfppsYaUuk', 'qaktt_k`nr', 'oaspqci^ws', 'iesnrYbVuy', 'iesmsYbUuk', 'nhppoYbVus', 'ranpvX]^wu', 'oaqpjZg`sr', 'rarpvY]`wu', 'a^wpl\\\\eezz', 'mfrhpYdZpy', 'g^utmYf_pr', 'g^upmYfapp', 'g^upkYfaqq', 'n`kovak`nr', 'a^wpk\\\\eesz', 'oaootcn`qr', 'lbrtq]l`qt', 'a_vpmcg^wy', 'oasntYf`qr']\n"
     ]
    }
   ],
   "source": [
    "# print overall best genotype and its fitness score at the end of num_generations\n",
    "print(\"The finalinitial population is: \", pop)"
   ]
  }
 ],
 "metadata": {
  "kernelspec": {
   "display_name": "Python 3",
   "language": "python",
   "name": "python3"
  },
  "language_info": {
   "codemirror_mode": {
    "name": "ipython",
    "version": 3
   },
   "file_extension": ".py",
   "mimetype": "text/x-python",
   "name": "python",
   "nbconvert_exporter": "python",
   "pygments_lexer": "ipython3",
   "version": "3.11.9"
  }
 },
 "nbformat": 4,
 "nbformat_minor": 2
}

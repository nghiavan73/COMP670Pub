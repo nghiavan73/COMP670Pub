{
  "nbformat": 4,
  "nbformat_minor": 0,
  "metadata": {
    "colab": {
      "provenance": [],
      "include_colab_link": true
    },
    "kernelspec": {
      "name": "python3",
      "display_name": "Python 3"
    },
    "language_info": {
      "name": "python"
    }
  },
  "cells": [
    {
      "cell_type": "markdown",
      "metadata": {
        "id": "view-in-github",
        "colab_type": "text"
      },
      "source": [
        "<a href=\"https://colab.research.google.com/github/nghiavan73/COMP670Pub/blob/main/COMP_670_Evolutionary_Computation_Assignment.ipynb\" target=\"_parent\"><img src=\"https://colab.research.google.com/assets/colab-badge.svg\" alt=\"Open In Colab\"/></a>"
      ]
    },
    {
      "cell_type": "markdown",
      "source": [
        "NV Test 1"
      ],
      "metadata": {
        "id": "ADTod6kXDA6-"
      }
    },
    {
      "cell_type": "markdown",
      "metadata": {
        "id": "gy9HhU5yvfr3"
      },
      "source": [
        "# Overview\n",
        "In this assignment, a template of the implementation of a simple Genetic Algorithm (GA) in python is provided for you. There are three required tasks (Q1, Q2 and Q3) you need to complete. You are also encouraged to consider doing the optional bonus task.\n",
        "\n",
        "#Instructions\n",
        "First, click File and select \"Save a copy in Drive\". You will be prompted to sign in with a Google account. A copy of your own will be created.\n",
        "\n",
        "To run your program, you have different options under Runtime. Make sure to choose \"Run all\" the first time your notebook is opened. Otherwise you may get underfined functions error.\n",
        "\n",
        "After complete all the tasks, click File -> Download -> Download .ipynb and submit it in Canvas.\n",
        "\n",
        "To edit a text cell, double click on it. Now input your name here in **bold** font:\n"
      ]
    },
    {
      "cell_type": "markdown",
      "metadata": {
        "id": "ySZMgUx7CURg"
      },
      "source": [
        "# Q1\n",
        "Study the following code. In the text cell follwing each function, describe in your own words, what the function above does in a typical GA, and how they all work in concert. For example, if you are describing the function '`evaluate`' explain exactly what the function evaluates (inputs), how it evaluates (algorithm) and the range and format of the final evaluation scores (outputs).\n",
        "\n",
        "You will modify these functions in Q2 when you implement a GA to solve a problem.\n",
        "\n",
        "The object of this question is for you to assess if you understand the GA principles we learned in class."
      ]
    },
    {
      "cell_type": "code",
      "metadata": {
        "id": "y8fzkhF62YAA"
      },
      "source": [
        "# IMPORTANT: This is NOT a full GA program.\n",
        "# This program contains a collection of functions namely init(), evaluate(), select(),\n",
        "# recombine() and mutate() that you can use as TEMPLATES in your assignments.\n",
        "# The function-implementations here are only EXAMPLES. However, under each function,\n",
        "# notes are included that provide pointers as to how you may modify these functions\n",
        "# to work out your assignment problems. Further, note that a full GA uses the outputs\n",
        "# from these functions and uses them in a variety of ways to solve a problem.\n",
        "\n",
        "import random, string, numpy\n",
        "\n",
        "# EXAMPLE init() function\n",
        "# Initialize the population with random individuals\n",
        "def init():\n",
        "\n",
        "    # Create an empty population\n",
        "    pop = []\n",
        "\n",
        "    for i in range(pop_size):\n",
        "        genotype = ''.join(random.choice(string.ascii_letters) for x in range(genotype_size))\n",
        "        pop.append(genotype)\n",
        "\n",
        "    return(pop)\n",
        "\n",
        "    # NOTES:\n",
        "    # This is an EXAMPLE population made up of strings of English characters of both cases.\n",
        "    # You can also use random.choice() to select from a list you provide. For example,\n",
        "    # if you want to randomly choose only from a list of the following symbols: 'F', '+', 'A',\n",
        "    # you can say >>>random.choice(['F', '+', 'A'])"
      ],
      "execution_count": null,
      "outputs": []
    },
    {
      "cell_type": "markdown",
      "metadata": {
        "id": "BWkPRPuO2qbU"
      },
      "source": [
        "What does `init()` do? Provide your answer below:"
      ]
    },
    {
      "cell_type": "code",
      "metadata": {
        "id": "HBQMN_U75CEZ"
      },
      "source": [
        "# EXAMPLE evaluate() function\n",
        "# Go through the population list, pick each genotype, evaluate it, and record its fitness score\n",
        "def evaluate(pop):\n",
        "\n",
        "    # Create an empty list of fitness values\n",
        "    fitness = []\n",
        "    for i in range(pop_size):\n",
        "        genotype = pop[i]\n",
        "        fitness_value = sum(ord(i) for i in genotype)  #sums up the ascii values of the characters\n",
        "        fitness.append(fitness_value)\n",
        "\n",
        "    # Normalize fitness. IMPORTANT: If you don't multiple by 1.0, you will get all zeros\n",
        "    fitness = [f * 1.0/sum(fitness) for f in fitness]\n",
        "    # This normalization is needed for select() to pick the parents\n",
        "\n",
        "    return(fitness)\n",
        "\n",
        "    # NOTES:\n",
        "    # This is an EXAMPLE fitness function, where each genotype is evaluated as the sum of the\n",
        "    # ascii values of the characters of the genotype. For Q2 in your assignment, you should write\n",
        "    # a fitness function that counts the number of lower case letters in your genotype."
      ],
      "execution_count": null,
      "outputs": []
    },
    {
      "cell_type": "markdown",
      "metadata": {
        "id": "6MupFvSd5JzL"
      },
      "source": [
        "What does `evaluate()` do? Provide your answer below:"
      ]
    },
    {
      "cell_type": "code",
      "metadata": {
        "id": "MU5u6UVt5M_K"
      },
      "source": [
        "# Select two parents using roulette wheel method, also known as 'fitness proportionate' selection\n",
        "# Reference: our lecture note and http://en.wikipedia.org/wiki/Fitness_proportionate_selection\n",
        "def select(fitness, pop):\n",
        "\n",
        "    # Select first parent\n",
        "    parent_1_index = -9999  #indicates that parent_1 is yet to be chosen\n",
        "    cumulated_fitness = 0\n",
        "    roulette_marker = random.random()  #indicates that the 'roulette wheel' has settled on a random number between 0 and 1\n",
        "    for i in range(pop_size):\n",
        "        cumulated_fitness += fitness[i]\n",
        "        if cumulated_fitness >= roulette_marker:\n",
        "            parent_1_index = i\n",
        "            break\n",
        "\n",
        "    # Select second parent different from the first parent\n",
        "    parent_2_index = parent_1_index  #indicates that parent_2 is yet to be chosen\n",
        "    while parent_2_index == parent_1_index:  #this ensures that the two parents chosen are distinct\n",
        "        cumulated_fitness = 0\n",
        "        roulette_marker = random.random()  #indicates that the 'roulette wheel' has settled on a random number\n",
        "        for i in range(pop_size):\n",
        "            cumulated_fitness += fitness[i]\n",
        "            if cumulated_fitness >= roulette_marker:\n",
        "                parent_2_index = i\n",
        "                break\n",
        "\n",
        "    return([pop[parent_1_index], pop[parent_2_index]])\n",
        "\n",
        "    # NOTES:\n",
        "    # It is possible but rare that in the entire population only one individual has a non-zero fitness. In such cases,\n",
        "    # the part of the code above that selects parent_2 will wait forever. Take care of such situations -- you can simply\n",
        "    # randomly select another individual with a 0-fitness."
      ],
      "execution_count": null,
      "outputs": []
    },
    {
      "cell_type": "markdown",
      "metadata": {
        "id": "lCvp-Oq25XCD"
      },
      "source": [
        "What does `select()` do? Provide your answer below:"
      ]
    },
    {
      "cell_type": "code",
      "metadata": {
        "id": "zly_Qv__5gVK"
      },
      "source": [
        "# Recombine two parents to produce two offsprings, with a certain probability\n",
        "# specified by recombination_rate\n",
        "def recombine(parent_1, parent_2, recombination_rate):\n",
        "\n",
        "    r = random.random()\n",
        "\n",
        "    if r <= recombination_rate:  #recombination_rate is a value between 0 and 1\n",
        "        #recombine\n",
        "        slice_point = random.randint(0, genotype_size-1)\n",
        "        offspring_1 = parent_1[0 : slice_point] + parent_2[slice_point : genotype_size]\n",
        "        offspring_2 = parent_2[0 : slice_point] + parent_1[slice_point : genotype_size]\n",
        "        return([offspring_1, offspring_2])\n",
        "\n",
        "    else:  #don't recombine\n",
        "        return([parent_1, parent_2])"
      ],
      "execution_count": null,
      "outputs": []
    },
    {
      "cell_type": "markdown",
      "metadata": {
        "id": "0TK05i7R5la6"
      },
      "source": [
        "What does `recombine()` do? Provide your answer below:"
      ]
    },
    {
      "cell_type": "code",
      "metadata": {
        "id": "dubLeMbN5oQf"
      },
      "source": [
        "# EXAMPLE mutation method\n",
        "# Mutate a genotype with a certain probability of mutation per-symbol specified by 'mutation_rate'.\n",
        "# A mutation typically adds a small amount of 'shift' to a genotype letter.\n",
        "def mutate(genotype, mutation_rate):\n",
        "\n",
        "    mutated_genotype = genotype  #indicates that the genotype is yet to be mutated\n",
        "\n",
        "    for i in range(genotype_size):\n",
        "\n",
        "        r = random.random()\n",
        "\n",
        "        if r <= mutation_rate:  #rate is a value between 0 and 1\n",
        "            # then mutate this symbol by a small shift on the alphabet scale, else proceed to the next symbol\n",
        "\n",
        "            # 'numpy.random.poisson' draws a random integer from a bell shaped distribution centered at 'lam',\n",
        "            # where 'lam' is short for 'lambda' that represents the mean of the distribution.\n",
        "            # So 'numpy.random.poisson(lam = 2)' typically returns the number 2, occasionally 1 and 3, even more\n",
        "            # rarely 0 and 4.\n",
        "\n",
        "            mutation_magnitude = numpy.random.poisson(lam = 2)\n",
        "            mutation_direction = random.choice([-1, 1])\n",
        "            mutation = mutation_direction * mutation_magnitude\n",
        "\n",
        "            present_symbol_ascii = ord(genotype[i])\n",
        "\n",
        "            mutated_symbol_ascii = present_symbol_ascii + mutation\n",
        "\n",
        "            if (mutated_symbol_ascii < ord('A')): mutated_symbol_ascii = ord('A')\n",
        "            if (mutated_symbol_ascii > ord('z')): mutated_symbol_ascii = ord('z')\n",
        "\n",
        "            new_symbol = chr(mutated_symbol_ascii)\n",
        "\n",
        "            mutated_genotype = mutated_genotype[0 : i] + new_symbol + mutated_genotype[(i+1) : genotype_size]\n",
        "\n",
        "    return(mutated_genotype)\n",
        "\n",
        "    # NOTES:\n",
        "    # This is an EXAMPLE mutation method that replaces a character with another that is a small distance away from it."
      ],
      "execution_count": null,
      "outputs": []
    },
    {
      "cell_type": "markdown",
      "metadata": {
        "id": "RshY4VkR5xrM"
      },
      "source": [
        "What does `mutate()` do? Provide your answer below:"
      ]
    },
    {
      "cell_type": "markdown",
      "metadata": {
        "id": "F0olViQT57cH"
      },
      "source": [
        "# Q2:\n",
        "Revise the functions above and the code below to implement a Genetic Algorithm to evolve a 'textual' genotype in the following way.\n",
        "\n",
        "Your `init()` method should initialize each genotype in the population to consist of a string of random letters. The objective is to evolve genotypes that contain as many (lowercase) **a**'s as possible. That is, you can use the number of lowercase **a**'s present in a genotype as its fitness score in your `evaluate()` method. At the end of each generation, print out the best performing genotype.\n",
        "\n",
        "For solving this simple problem (by GA standards), you may choose to not use the `recombine()` method, but you are welcome to try it.\n",
        "\n",
        "Use a population size, genome size, and number of iterations of your preference.\n",
        "\n",
        "NOTE: Your mutation method should not explicitly replace a genotype letter with 'a'. Although it will lead to solutions more quickly, it's not natural from an evolution point of view that is blind in a sense.\n"
      ]
    },
    {
      "cell_type": "code",
      "metadata": {
        "id": "Pq6XuQpKviYT",
        "colab": {
          "base_uri": "https://localhost:8080/"
        },
        "outputId": "465e2037-3ae1-4fbd-ce90-a35f439cc3e5"
      },
      "source": [
        "# EXAMPLE GA parameers\n",
        "pop_size = 20  #population size\n",
        "num_generations = 100\n",
        "genotype_size = 10\n",
        "recombination_rate = 0.2\n",
        "mutation_rate = 0.2\n",
        "\n",
        "print('COMP 670: GA Assignment by: ') #Print your name\n",
        "\n",
        "# Main GA loop.\n",
        "# This is NOT the full GA. A full GA may do other things in between the lines below.\n",
        "\n",
        "pop = init()\n",
        "\n",
        "#print(\"The initial population is: \", pop) #printing the initial population\n",
        "\n",
        "for gen in range(num_generations):\n",
        "\n",
        "\tfitness = evaluate(pop)\n",
        "\n",
        "\t# create a new population that will hold the next generation of genotypes\n",
        "\t# if you are using 'elite' selection, then simply copy the top x% of individuals from pop to new_pop\n",
        "\tnew_pop = []\n",
        "\n",
        "\twhile (len(new_pop) < pop_size):  # continue loop until new_pop has pop_size number of individuals\n",
        "\n",
        "\t\t[parent_1, parent_2] = select(fitness, pop)\n",
        "\n",
        "\t\t[offspring_1, offspring_2] = recombine(parent_1, parent_2, recombination_rate)\n",
        "\n",
        "\t\tmutated_genotype_1 = mutate(offspring_1, mutation_rate)\n",
        "\t\tmutated_genotype_2 = mutate(offspring_2, mutation_rate)\n",
        "\n",
        "\t\tnew_pop.append(mutated_genotype_1)\n",
        "\t\tnew_pop.append(mutated_genotype_2)\n",
        "\n",
        "\t\t# continue loop until new_pop has pop_size number of individuals\n",
        "\n",
        "\tpop = new_pop  #replace current population with new population\n",
        "\n",
        "\t# print best genotype and its fitness score of current generation\n",
        "\t# continue loop to create next generation\n",
        "\n",
        "# print overall best genotype and its fitness score at the end of num_generations\n",
        "\n",
        "\n",
        "\n",
        "\n",
        "\n",
        "\n",
        "\n"
      ],
      "execution_count": null,
      "outputs": [
        {
          "output_type": "stream",
          "text": [
            "COMP 670: GA Assignment by: \n"
          ],
          "name": "stdout"
        }
      ]
    },
    {
      "cell_type": "markdown",
      "metadata": {
        "id": "2QCT4vJV6YP1"
      },
      "source": [
        "#Q3\n",
        "Increase the mutation rate and run your GA again. Does your GA find good solutions faster or slower than it did earlier? Choose at least 3 different mutation rates sufficiently spread in the range (0, 1), and discuss how mutation rate affects the search.\n",
        "##Answer:\n",
        "\n",
        "\n",
        "##Optional (10 points bonus!)\n",
        "Try the `recombine()` method. What impact on the search did you see?\n",
        "\n",
        "The default replacement selection is age based. You may revise it to \"elitism\" (a small portion of the best individuals from the last generation is carried over without any changes to the next one.) or fitness based. Try them and see how it affects the search.\n",
        "\n",
        "##Answer:\n"
      ]
    }
  ]
}